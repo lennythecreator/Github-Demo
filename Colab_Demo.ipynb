{
  "nbformat": 4,
  "nbformat_minor": 0,
  "metadata": {
    "colab": {
      "provenance": [],
      "gpuType": "T4",
      "mount_file_id": "1f6alDwBtNCAvhdP6YfAnK8_-E3tNeRI7",
      "authorship_tag": "ABX9TyPvB1anmGucPBq9m2aukWca",
      "include_colab_link": true
    },
    "kernelspec": {
      "name": "python3",
      "display_name": "Python 3"
    },
    "language_info": {
      "name": "python"
    },
    "accelerator": "GPU"
  },
  "cells": [
    {
      "cell_type": "markdown",
      "metadata": {
        "id": "view-in-github",
        "colab_type": "text"
      },
      "source": [
        "<a href=\"https://colab.research.google.com/github/lennythecreator/Github-Demo/blob/main/Colab_Demo.ipynb\" target=\"_parent\"><img src=\"https://colab.research.google.com/assets/colab-badge.svg\" alt=\"Open In Colab\"/></a>"
      ]
    },
    {
      "cell_type": "markdown",
      "source": [
        "# Print Joe's World"
      ],
      "metadata": {
        "id": "Gwrj0PRDbKmq"
      }
    },
    {
      "cell_type": "code",
      "execution_count": 1,
      "metadata": {
        "colab": {
          "base_uri": "https://localhost:8080/"
        },
        "id": "HX7F2pKVbEFS",
        "outputId": "a4e222d1-17e0-49c3-d9cb-26fa47ec314d"
      },
      "outputs": [
        {
          "output_type": "stream",
          "name": "stdout",
          "text": [
            "Joe's World\n"
          ]
        }
      ],
      "source": [
        "print(\"Joe's World\")"
      ]
    },
    {
      "cell_type": "markdown",
      "source": [
        "## Turning Dictionary into Data Frame"
      ],
      "metadata": {
        "id": "Q6675jW-eTqh"
      }
    },
    {
      "cell_type": "code",
      "source": [
        "import pandas as pd\n",
        "\n",
        "dict1  = {\n",
        "    \"names\": [\"Lenny\",\"Josh\",\"Jay\",\"Jaden\",\"Mack\", \"Jonny\"],\n",
        "    \"Ages\" : [23,22,21,20,45,50],\n",
        "    \"Cities\": [\"Baltimore\",\"Baltimore\",\"New York\",\"New York\",\"SF\",\"San Diego\"],\n",
        "    \"Hobbies\": [\"Drawing\",\"Joking\",\"Movies\",\"Rapping\",\"Going for LONG walks\",\"Hanging out with the lads\"]\n",
        "\n",
        "}\n",
        "\n",
        "Data = pd.DataFrame(dict1)\n",
        "Data['Hobbies']"
      ],
      "metadata": {
        "colab": {
          "base_uri": "https://localhost:8080/"
        },
        "id": "9bnbLm93dE5N",
        "outputId": "abe6c584-62e0-4ce8-e50b-f54a834da3ed"
      },
      "execution_count": 6,
      "outputs": [
        {
          "output_type": "execute_result",
          "data": {
            "text/plain": [
              "0                      Drawing\n",
              "1                       Joking\n",
              "2                       Movies\n",
              "3                      Rapping\n",
              "4         Going for LONG walks\n",
              "5    Hanging out with the lads\n",
              "Name: Hobbies, dtype: object"
            ]
          },
          "metadata": {},
          "execution_count": 6
        }
      ]
    }
  ]
}